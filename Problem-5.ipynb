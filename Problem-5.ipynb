{
 "cells": [
  {
   "cell_type": "code",
   "execution_count": 2,
   "metadata": {},
   "outputs": [
    {
     "name": "stdout",
     "output_type": "stream",
     "text": [
      "False\n"
     ]
    }
   ],
   "source": [
    "# Write a function to determine if a person can enter a club.\n",
    "age = int(input(\"Enter your age: \"))\n",
    "if age >= 21:\n",
    "    print(True)\n",
    "else:\n",
    "    print(False)\n"
   ]
  },
  {
   "cell_type": "code",
   "execution_count": 4,
   "metadata": {},
   "outputs": [
    {
     "name": "stdout",
     "output_type": "stream",
     "text": [
      "Fail\n"
     ]
    }
   ],
   "source": [
    "# write a function to whether a student passed or failed in his/her examination.\n",
    "marks = int(input(\"Enter your marks: \"))\n",
    "pass_marks = 50\n",
    "\n",
    "if marks >= pass_marks:\n",
    "    print(\"Pass\")\n",
    "else:\n",
    "    print(\"Fail\")"
   ]
  },
  {
   "cell_type": "code",
   "execution_count": 6,
   "metadata": {},
   "outputs": [
    {
     "data": {
      "text/plain": [
       "False"
      ]
     },
     "execution_count": 6,
     "metadata": {},
     "output_type": "execute_result"
    }
   ],
   "source": [
    "def is_divisible_by_five(n):\n",
    "    if n % 5 == 0:\n",
    "        return True\n",
    "    else:\n",
    "        return False\n",
    "\n",
    "\n",
    "num = int(input(\"Enter any number: \"))\n",
    "is_divisible_by_five(num)"
   ]
  },
  {
   "cell_type": "code",
   "execution_count": null,
   "metadata": {},
   "outputs": [
    {
     "name": "stdout",
     "output_type": "stream",
     "text": [
      "(😊\n"
     ]
    }
   ],
   "source": [
    "# Write a function to replace all occurrance of ':)' in a string with a smiley face emoji.\n",
    "string = input(\"Enter the string with :) .\")\n",
    "string = string.replace(':)','😊')\n",
    "print(string)"
   ]
  },
  {
   "cell_type": "code",
   "execution_count": 10,
   "metadata": {},
   "outputs": [
    {
     "name": "stdout",
     "output_type": "stream",
     "text": [
      "My Name Is Ibrahim\n"
     ]
    }
   ],
   "source": [
    "# Write a function to convert a given string to title case.\n",
    "string = input(\"Enter a string: \")\n",
    "string = string.title()\n",
    "print(string)"
   ]
  },
  {
   "cell_type": "code",
   "execution_count": 11,
   "metadata": {},
   "outputs": [
    {
     "name": "stdout",
     "output_type": "stream",
     "text": [
      "My Name Is Ibrahim and I Am Software Engineer.\n"
     ]
    }
   ],
   "source": [
    " # most advance approach for to convert a given string to title case.\n",
    "def custom_title_case(string):\n",
    "    words = string.split()\n",
    "    title_case_words = [word.capitalize() if word.lower() not in ['and', 'or', 'but', 'a', 'an', 'the'] else word for word in words]\n",
    "    return ' '.join(title_case_words)\n",
    "\n",
    "string = input(\"Enter a string: \")\n",
    "title_case_text = custom_title_case(string)\n",
    "print(title_case_text)"
   ]
  },
  {
   "cell_type": "code",
   "execution_count": 20,
   "metadata": {},
   "outputs": [
    {
     "data": {
      "text/plain": [
       "'-----'"
      ]
     },
     "execution_count": 20,
     "metadata": {},
     "output_type": "execute_result"
    }
   ],
   "source": [
    "# write a function to convert a number into a string of dashes equal to the number.\n",
    "def num_to_dashes(num):\n",
    "    return '-' * num\n",
    "num = int(input(\"Enter any number: \"))\n",
    "num_to_dashes(num)"
   ]
  },
  {
   "cell_type": "code",
   "execution_count": null,
   "metadata": {},
   "outputs": [
    {
     "name": "stdout",
     "output_type": "stream",
     "text": [
      "8\n"
     ]
    }
   ],
   "source": [
    "# write a function to add first and last elements of a list.\n",
    "def add_first_last(list1):\n",
    "    return list1[1] + list1[-2]\n",
    "list1 = [1,3,3,4,5,6]\n",
    "result = add_first_last(list1)\n",
    "print(result)"
   ]
  },
  {
   "cell_type": "code",
   "execution_count": 30,
   "metadata": {},
   "outputs": [
    {
     "name": "stdout",
     "output_type": "stream",
     "text": [
      "my name is ibrahim.\n",
      "['my', 'name', 'is', 'ibrahim.']\n",
      "my name is ibrahim.\n"
     ]
    }
   ],
   "source": [
    "string = \"my name is ibrahim.\"\n",
    "print(string)\n",
    "words = string.split()\n",
    "print(words)\n",
    "print(' '.join(words))"
   ]
  },
  {
   "cell_type": "code",
   "execution_count": 38,
   "metadata": {},
   "outputs": [
    {
     "name": "stdout",
     "output_type": "stream",
     "text": [
      "***********8963\n"
     ]
    }
   ],
   "source": [
    "# Hide card number\n",
    "def hide_card_number(card_number):\n",
    "    card_number_str = str(card_number)\n",
    "    if len(card_number_str) < 4:\n",
    "        return \"invalid number!\"\n",
    "    hidden_card_number = \"*\" * (len(card_number_str) - 4) + card_number_str[-4:]\n",
    "    return hidden_card_number\n",
    "card_number = 123456789258963\n",
    "hide_number = hide_card_number(card_number)\n",
    "print(hide_number)"
   ]
  }
 ],
 "metadata": {
  "kernelspec": {
   "display_name": "Python 3",
   "language": "python",
   "name": "python3"
  },
  "language_info": {
   "codemirror_mode": {
    "name": "ipython",
    "version": 3
   },
   "file_extension": ".py",
   "mimetype": "text/x-python",
   "name": "python",
   "nbconvert_exporter": "python",
   "pygments_lexer": "ipython3",
   "version": "3.12.6"
  }
 },
 "nbformat": 4,
 "nbformat_minor": 2
}
